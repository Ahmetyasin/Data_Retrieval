{
 "cells": [
  {
   "cell_type": "code",
   "execution_count": 1,
   "metadata": {},
   "outputs": [
    {
     "ename": "ModuleNotFoundError",
     "evalue": "No module named 'jmespath'",
     "output_type": "error",
     "traceback": [
      "\u001b[0;31m---------------------------------------------------------------------------\u001b[0m",
      "\u001b[0;31mModuleNotFoundError\u001b[0m                       Traceback (most recent call last)",
      "Cell \u001b[0;32mIn[1], line 1\u001b[0m\n\u001b[0;32m----> 1\u001b[0m \u001b[38;5;28;01mfrom\u001b[39;00m \u001b[38;5;21;01mcinemagoerng\u001b[39;00m \u001b[38;5;28;01mimport\u001b[39;00m web\n\u001b[1;32m      3\u001b[0m \u001b[38;5;66;03m# Get movie with parental guide information directly\u001b[39;00m\n\u001b[1;32m      4\u001b[0m movie \u001b[38;5;241m=\u001b[39m web\u001b[38;5;241m.\u001b[39mget_title(\u001b[38;5;124m\"\u001b[39m\u001b[38;5;124mtt0133093\u001b[39m\u001b[38;5;124m\"\u001b[39m, page\u001b[38;5;241m=\u001b[39m\u001b[38;5;124m\"\u001b[39m\u001b[38;5;124mparental_guide\u001b[39m\u001b[38;5;124m\"\u001b[39m)  \u001b[38;5;66;03m# The Matrix\u001b[39;00m\n",
      "File \u001b[0;32m~/Desktop/cinemagoerng/cinemagoerng/web.py:26\u001b[0m\n\u001b[1;32m     23\u001b[0m \u001b[38;5;28;01mfrom\u001b[39;00m \u001b[38;5;21;01murllib\u001b[39;00m\u001b[38;5;21;01m.\u001b[39;00m\u001b[38;5;21;01merror\u001b[39;00m \u001b[38;5;28;01mimport\u001b[39;00m HTTPError\n\u001b[1;32m     24\u001b[0m \u001b[38;5;28;01mfrom\u001b[39;00m \u001b[38;5;21;01murllib\u001b[39;00m\u001b[38;5;21;01m.\u001b[39;00m\u001b[38;5;21;01mrequest\u001b[39;00m \u001b[38;5;28;01mimport\u001b[39;00m Request, urlopen\n\u001b[0;32m---> 26\u001b[0m \u001b[38;5;28;01mfrom\u001b[39;00m \u001b[38;5;21;01m.\u001b[39;00m \u001b[38;5;28;01mimport\u001b[39;00m model, piculet, registry\n\u001b[1;32m     29\u001b[0m _USER_AGENT \u001b[38;5;241m=\u001b[39m \u001b[38;5;124m\"\u001b[39m\u001b[38;5;124mMozilla/5.0 (X11; Linux x86_64; rv:102.0) Firefox/102.0\u001b[39m\u001b[38;5;124m\"\u001b[39m\n\u001b[1;32m     32\u001b[0m \u001b[38;5;28;01mdef\u001b[39;00m \u001b[38;5;21mfetch\u001b[39m(url: \u001b[38;5;28mstr\u001b[39m, \u001b[38;5;241m*\u001b[39m\u001b[38;5;241m*\u001b[39mkwargs) \u001b[38;5;241m-\u001b[39m\u001b[38;5;241m>\u001b[39m \u001b[38;5;28mstr\u001b[39m:\n",
      "File \u001b[0;32m~/Desktop/cinemagoerng/cinemagoerng/piculet.py:33\u001b[0m\n\u001b[1;32m     22\u001b[0m \u001b[38;5;28;01mfrom\u001b[39;00m \u001b[38;5;21;01mtyping\u001b[39;00m \u001b[38;5;28;01mimport\u001b[39;00m (\n\u001b[1;32m     23\u001b[0m     Any,\n\u001b[1;32m     24\u001b[0m     List,\n\u001b[0;32m   (...)\u001b[0m\n\u001b[1;32m     29\u001b[0m     TypedDict,\n\u001b[1;32m     30\u001b[0m )\n\u001b[1;32m     32\u001b[0m \u001b[38;5;28;01mimport\u001b[39;00m \u001b[38;5;21;01mtypedload\u001b[39;00m\n\u001b[0;32m---> 33\u001b[0m \u001b[38;5;28;01mfrom\u001b[39;00m \u001b[38;5;21;01mjmespath\u001b[39;00m \u001b[38;5;28;01mimport\u001b[39;00m \u001b[38;5;28mcompile\u001b[39m \u001b[38;5;28;01mas\u001b[39;00m compile_jmespath\n\u001b[1;32m     34\u001b[0m \u001b[38;5;28;01mfrom\u001b[39;00m \u001b[38;5;21;01mlxml\u001b[39;00m\u001b[38;5;21;01m.\u001b[39;00m\u001b[38;5;21;01metree\u001b[39;00m \u001b[38;5;28;01mimport\u001b[39;00m XPath \u001b[38;5;28;01mas\u001b[39;00m compile_xpath\n\u001b[1;32m     35\u001b[0m \u001b[38;5;28;01mfrom\u001b[39;00m \u001b[38;5;21;01mlxml\u001b[39;00m\u001b[38;5;21;01m.\u001b[39;00m\u001b[38;5;21;01metree\u001b[39;00m \u001b[38;5;28;01mimport\u001b[39;00m _Element \u001b[38;5;28;01mas\u001b[39;00m TreeNode\n",
      "\u001b[0;31mModuleNotFoundError\u001b[0m: No module named 'jmespath'"
     ]
    }
   ],
   "source": [
    "   from cinemagoerng import web\n",
    "   \n",
    "   # Get movie with parental guide information directly\n",
    "   movie = web.get_title(\"tt0133093\", page=\"parental_guide\")  # The Matrix\n",
    "   \n",
    "   # Or update an existing movie object with parental guide info\n",
    "   movie = web.get_title(\"tt0133093\")  # Basic info\n",
    "   web.update_title(movie, page=\"parental_guide\", keys=[\"certification\", \"advisories\"])\n",
    "   \n",
    "   # Access the data\n",
    "   print(movie.certification.mpa_rating)  # \"R\"\n",
    "   print(movie.advisories.nudity.status)  # \"Mild\"\n",
    "   \n",
    "   # Get details\n",
    "   for detail in movie.advisories.violence.details:\n",
    "       print(f\"{'[SPOILER] ' if detail.is_spoiler else ''}{detail.text}\")"
   ]
  },
  {
   "cell_type": "code",
   "execution_count": 1,
   "metadata": {},
   "outputs": [
    {
     "ename": "ModuleNotFoundError",
     "evalue": "No module named 'jmespath'",
     "output_type": "error",
     "traceback": [
      "\u001b[0;31m---------------------------------------------------------------------------\u001b[0m",
      "\u001b[0;31mModuleNotFoundError\u001b[0m                       Traceback (most recent call last)",
      "Cell \u001b[0;32mIn[1], line 1\u001b[0m\n\u001b[0;32m----> 1\u001b[0m \u001b[38;5;28;01mfrom\u001b[39;00m \u001b[38;5;21;01mcinemagoerng\u001b[39;00m \u001b[38;5;28;01mimport\u001b[39;00m web\n\u001b[1;32m      3\u001b[0m \u001b[38;5;66;03m# Get movie with parental guide information directly\u001b[39;00m\n\u001b[1;32m      4\u001b[0m movie \u001b[38;5;241m=\u001b[39m web\u001b[38;5;241m.\u001b[39mget_title(\u001b[38;5;124m\"\u001b[39m\u001b[38;5;124mtt0133093\u001b[39m\u001b[38;5;124m\"\u001b[39m, page\u001b[38;5;241m=\u001b[39m\u001b[38;5;124m\"\u001b[39m\u001b[38;5;124mparental_guide\u001b[39m\u001b[38;5;124m\"\u001b[39m)  \u001b[38;5;66;03m# The Matrix\u001b[39;00m\n",
      "File \u001b[0;32m~/Desktop/cinemagoerng/cinemagoerng/web.py:26\u001b[0m\n\u001b[1;32m     23\u001b[0m \u001b[38;5;28;01mfrom\u001b[39;00m \u001b[38;5;21;01murllib\u001b[39;00m\u001b[38;5;21;01m.\u001b[39;00m\u001b[38;5;21;01merror\u001b[39;00m \u001b[38;5;28;01mimport\u001b[39;00m HTTPError\n\u001b[1;32m     24\u001b[0m \u001b[38;5;28;01mfrom\u001b[39;00m \u001b[38;5;21;01murllib\u001b[39;00m\u001b[38;5;21;01m.\u001b[39;00m\u001b[38;5;21;01mrequest\u001b[39;00m \u001b[38;5;28;01mimport\u001b[39;00m Request, urlopen\n\u001b[0;32m---> 26\u001b[0m \u001b[38;5;28;01mfrom\u001b[39;00m \u001b[38;5;21;01m.\u001b[39;00m \u001b[38;5;28;01mimport\u001b[39;00m model, piculet, registry\n\u001b[1;32m     29\u001b[0m _USER_AGENT \u001b[38;5;241m=\u001b[39m \u001b[38;5;124m\"\u001b[39m\u001b[38;5;124mMozilla/5.0 (X11; Linux x86_64; rv:102.0) Firefox/102.0\u001b[39m\u001b[38;5;124m\"\u001b[39m\n\u001b[1;32m     32\u001b[0m \u001b[38;5;28;01mdef\u001b[39;00m \u001b[38;5;21mfetch\u001b[39m(url: \u001b[38;5;28mstr\u001b[39m, \u001b[38;5;241m*\u001b[39m\u001b[38;5;241m*\u001b[39mkwargs) \u001b[38;5;241m-\u001b[39m\u001b[38;5;241m>\u001b[39m \u001b[38;5;28mstr\u001b[39m:\n",
      "File \u001b[0;32m~/Desktop/cinemagoerng/cinemagoerng/piculet.py:33\u001b[0m\n\u001b[1;32m     22\u001b[0m \u001b[38;5;28;01mfrom\u001b[39;00m \u001b[38;5;21;01mtyping\u001b[39;00m \u001b[38;5;28;01mimport\u001b[39;00m (\n\u001b[1;32m     23\u001b[0m     Any,\n\u001b[1;32m     24\u001b[0m     List,\n\u001b[0;32m   (...)\u001b[0m\n\u001b[1;32m     29\u001b[0m     TypedDict,\n\u001b[1;32m     30\u001b[0m )\n\u001b[1;32m     32\u001b[0m \u001b[38;5;28;01mimport\u001b[39;00m \u001b[38;5;21;01mtypedload\u001b[39;00m\n\u001b[0;32m---> 33\u001b[0m \u001b[38;5;28;01mfrom\u001b[39;00m \u001b[38;5;21;01mjmespath\u001b[39;00m \u001b[38;5;28;01mimport\u001b[39;00m \u001b[38;5;28mcompile\u001b[39m \u001b[38;5;28;01mas\u001b[39;00m compile_jmespath\n\u001b[1;32m     34\u001b[0m \u001b[38;5;28;01mfrom\u001b[39;00m \u001b[38;5;21;01mlxml\u001b[39;00m\u001b[38;5;21;01m.\u001b[39;00m\u001b[38;5;21;01metree\u001b[39;00m \u001b[38;5;28;01mimport\u001b[39;00m XPath \u001b[38;5;28;01mas\u001b[39;00m compile_xpath\n\u001b[1;32m     35\u001b[0m \u001b[38;5;28;01mfrom\u001b[39;00m \u001b[38;5;21;01mlxml\u001b[39;00m\u001b[38;5;21;01m.\u001b[39;00m\u001b[38;5;21;01metree\u001b[39;00m \u001b[38;5;28;01mimport\u001b[39;00m _Element \u001b[38;5;28;01mas\u001b[39;00m TreeNode\n",
      "\u001b[0;31mModuleNotFoundError\u001b[0m: No module named 'jmespath'"
     ]
    }
   ],
   "source": [
    "   from cinemagoerng import web\n",
    "   \n",
    "   # Get movie with parental guide information directly\n",
    "   movie = web.get_title(\"tt0133093\", page=\"parental_guide\")  # The Matrix\n",
    "   \n",
    "   # Or update an existing movie object with parental guide info\n",
    "   movie = web.get_title(\"tt0133093\")  # Basic info\n",
    "   web.update_title(movie, page=\"parental_guide\", keys=[\"certification\", \"advisories\"])\n",
    "   \n",
    "   # Access the data\n",
    "   print(movie.certification.mpa_rating)  # \"R\"\n",
    "   print(movie.advisories.nudity.status)  # \"Mild\"\n",
    "   \n",
    "   # Get details\n",
    "   for detail in movie.advisories.violence.details:\n",
    "       print(f\"{'[SPOILER] ' if detail.is_spoiler else ''}{detail.text}\")"
   ]
  },
  {
   "cell_type": "code",
   "execution_count": null,
   "metadata": {},
   "outputs": [],
   "source": []
  }
 ],
 "metadata": {
  "kernelspec": {
   "display_name": "Python 3",
   "language": "python",
   "name": "python3"
  },
  "language_info": {
   "codemirror_mode": {
    "name": "ipython",
    "version": 3
   },
   "file_extension": ".py",
   "mimetype": "text/x-python",
   "name": "python",
   "nbconvert_exporter": "python",
   "pygments_lexer": "ipython3",
   "version": "3.10.4"
  }
 },
 "nbformat": 4,
 "nbformat_minor": 2
}
